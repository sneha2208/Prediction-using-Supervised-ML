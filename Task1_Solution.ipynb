{
 "cells": [
  {
   "cell_type": "markdown",
   "id": "paperback-sponsorship",
   "metadata": {},
   "source": [
    "# <font color='black'> Name: Sneha Birajdar </font>\n",
    "\n",
    "## Task 1: Prediction using Supervised ML \n",
    "Predict the percentage of an student based on the no. of study hours.\n"
   ]
  },
  {
   "cell_type": "code",
   "execution_count": 16,
   "id": "rising-taiwan",
   "metadata": {},
   "outputs": [],
   "source": [
    "# Importing libraries\n",
    "import numpy\n",
    "import matplotlib.pyplot as plot\n",
    "import pandas\n",
    "from sklearn.model_selection import train_test_split\n",
    "from sklearn.linear_model import LinearRegression"
   ]
  },
  {
   "cell_type": "code",
   "execution_count": 17,
   "id": "familiar-rescue",
   "metadata": {},
   "outputs": [],
   "source": [
    "# Import the dataset\n",
    "dataset = pandas.read_csv('C:\\\\Users\\\\snebi\\\\Downloads\\\\student_scores.csv')\n",
    "x = dataset.iloc[:, :-1].values\n",
    "y = dataset.iloc[:, 1].values"
   ]
  },
  {
   "cell_type": "code",
   "execution_count": 18,
   "id": "daily-infrastructure",
   "metadata": {},
   "outputs": [],
   "source": [
    "# Split the dataset into the training set and test set\n",
    "xTrain, xTest, yTrain, yTest = train_test_split(x, y, test_size = 1/3, random_state = 0)"
   ]
  },
  {
   "cell_type": "code",
   "execution_count": 19,
   "id": "limiting-speech",
   "metadata": {},
   "outputs": [],
   "source": [
    "# Creating linear regression object\n",
    "linearRegressor = LinearRegression()"
   ]
  },
  {
   "cell_type": "code",
   "execution_count": 20,
   "id": "covered-cooler",
   "metadata": {},
   "outputs": [
    {
     "data": {
      "text/plain": [
       "LinearRegression()"
      ]
     },
     "execution_count": 20,
     "metadata": {},
     "output_type": "execute_result"
    }
   ],
   "source": [
    "# Fittig the model to our data i.e. training \n",
    "linearRegressor.fit(xTrain, yTrain)"
   ]
  },
  {
   "cell_type": "code",
   "execution_count": 21,
   "id": "important-leave",
   "metadata": {},
   "outputs": [],
   "source": [
    "# Testing \n",
    "yPrediction = linearRegressor.predict(xTest)"
   ]
  },
  {
   "cell_type": "code",
   "execution_count": 22,
   "id": "metropolitan-bracelet",
   "metadata": {},
   "outputs": [
    {
     "data": {
      "image/png": "[encoded data removed]",
      "text/plain": [
       "<Figure size 432x288 with 1 Axes>"
      ]
     },
     "metadata": {
      "needs_background": "light"
     },
     "output_type": "display_data"
    }
   ],
   "source": [
    "# Plotting the training set\n",
    "plot.scatter(xTrain, yTrain, color = 'red')\n",
    "plot.plot(xTrain, linearRegressor.predict(xTrain), color = 'blue')\n",
    "plot.title('Scores vs Hours (Training set)')\n",
    "plot.xlabel('Hours')\n",
    "plot.ylabel('Scores')\n",
    "plot.show()"
   ]
  },
  {
   "cell_type": "code",
   "execution_count": 23,
   "id": "brief-medicine",
   "metadata": {},
   "outputs": [
    {
     "data": {
      "image/png": "[encoded data removed]",
      "text/plain": [
       "<Figure size 432x288 with 1 Axes>"
      ]
     },
     "metadata": {
      "needs_background": "light"
     },
     "output_type": "display_data"
    }
   ],
   "source": [
    "# Plotting the testing set\n",
    "plot.scatter(xTest, yTest, color = 'red')\n",
    "plot.plot(xTrain, linearRegressor.predict(xTrain), color = 'blue')\n",
    "plot.title('Scores vs Hours (Test set)')\n",
    "plot.xlabel('Hours')\n",
    "plot.ylabel('Scores')\n",
    "plot.show()"
   ]
  },
  {
   "cell_type": "code",
   "execution_count": 24,
   "id": "alert-ottawa",
   "metadata": {},
   "outputs": [
    {
     "name": "stdout",
     "output_type": "stream",
     "text": [
      "92.14523314523316\n"
     ]
    }
   ],
   "source": [
    "# Testing own data\n",
    "prediction = linearRegressor.predict([[9.25]])[0]\n",
    "print(prediction)"
   ]
  },
  {
   "cell_type": "code",
   "execution_count": 25,
   "id": "partial-buddy",
   "metadata": {},
   "outputs": [
    {
     "name": "stdout",
     "output_type": "stream",
     "text": [
      "Mean Absolute Error: 4.691397441397446\n"
     ]
    }
   ],
   "source": [
    "# Evaluating the model\n",
    "from sklearn import metrics  \n",
    "print('Mean Absolute Error:', \n",
    "      metrics.mean_absolute_error(yTest, yPrediction)) "
   ]
  }
 ],
 "metadata": {
  "kernelspec": {
   "display_name": "Python 3",
   "language": "python",
   "name": "python3"
  },
  "language_info": {
   "codemirror_mode": {
    "name": "ipython",
    "version": 3
   },
   "file_extension": ".py",
   "mimetype": "text/x-python",
   "name": "python",
   "nbconvert_exporter": "python",
   "pygments_lexer": "ipython3",
   "version": "3.8.2"
  }
 },
 "nbformat": 4,
 "nbformat_minor": 5
}
